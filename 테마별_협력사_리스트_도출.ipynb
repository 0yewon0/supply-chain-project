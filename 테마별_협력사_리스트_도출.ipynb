{
  "cells": [
    {
      "cell_type": "code",
      "execution_count": null,
      "id": "d28c2569-12c0-4a87-b2f0-c8e573c91c54",
      "metadata": {
        "id": "d28c2569-12c0-4a87-b2f0-c8e573c91c54",
        "outputId": "f9e5b034-31bc-4edf-fddc-cd7b758aaf8b"
      },
      "outputs": [
        {
          "name": "stdin",
          "output_type": "stream",
          "text": [
            "Enter the theme name (or type 'exit' to quit):  음성인식\n"
          ]
        },
        {
          "name": "stdout",
          "output_type": "stream",
          "text": [
            "Accessing URL: https://finance.naver.com/sise/sise_group_detail.naver?type=theme&no=302\n",
            "Excel 파일로 저장되었습니다.\n"
          ]
        },
        {
          "name": "stdin",
          "output_type": "stream",
          "text": [
            "Enter the theme name (or type 'exit' to quit):  exit\n"
          ]
        }
      ],
      "source": [
        "import requests\n",
        "from bs4 import BeautifulSoup\n",
        "import pandas as pd\n",
        "\n",
        "# 단어와 숫자를 매핑하는 사전\n",
        "theme_mapping = {\n",
        "    '자율주행': 362,\n",
        "    '전기차 화재 방지': 564,\n",
        "    '전기차': 227,\n",
        "    '음성인식': 302\n",
        "    #추가 가능\n",
        "}\n",
        "\n",
        "# URL 패턴\n",
        "url_pattern = \"https://finance.naver.com/sise/sise_group_detail.naver?type=theme&no={}\"\n",
        "\n",
        "while True:\n",
        "    # 사용자로부터 단어 입력받기\n",
        "    theme = input(\"Enter the theme name (or type 'exit' to quit): \")\n",
        "\n",
        "    # 'exit' 입력 시 반복문 종료\n",
        "    if theme.lower() == 'exit':\n",
        "        break\n",
        "\n",
        "    # 입력된 단어를 숫자로 변환\n",
        "    if theme in theme_mapping:\n",
        "        number = theme_mapping[theme]\n",
        "        url = url_pattern.format(number)\n",
        "\n",
        "        # HTTP GET 요청\n",
        "        response = requests.get(url)\n",
        "\n",
        "        if response.status_code == 200:  # 성공적으로 데이터를 가져왔을 때\n",
        "            print(f\"Accessing URL: {url}\")\n",
        "            soup = BeautifulSoup(response.text, 'html.parser')\n",
        "\n",
        "            # 테이블 요소 추출\n",
        "            table = soup.find('table', class_='type_5')\n",
        "\n",
        "            if table:  # 테이블이 존재할 때\n",
        "                # 테이블에서 데이터를 추출하여 DataFrame으로 변환\n",
        "                rows = []\n",
        "                for row in table.find_all('tr'):\n",
        "                    cols = row.find_all('td')\n",
        "                    cols = [col.text.strip() for col in cols]\n",
        "                    if len(cols) > 1:  # 빈 행은 제외\n",
        "                        rows.append(cols)\n",
        "\n",
        "                # 데이터프레임 생성 (첫 번째 행은 컬럼 이름이 아니므로 header=False 설정)\n",
        "                df = pd.DataFrame(rows)\n",
        "\n",
        "                # 파일 저장\n",
        "                df.to_excel('naver_finance_theme.xlsx', index=False, header=False)\n",
        "                print(\"Excel 파일로 저장되었습니다.\")\n",
        "            else:  # 테이블을 찾지 못했을 때\n",
        "                print(\"Table not found on the page.\\n\")\n",
        "        else:\n",
        "            print(f\"Failed to access URL: {url}\")\n",
        "    else:\n",
        "        print(\"Theme not found in the mapping. Please enter a valid theme name.\")"
      ]
    },
    {
      "cell_type": "code",
      "execution_count": null,
      "id": "8f6f8166-7ad4-4e30-8799-f8695b5c1add",
      "metadata": {
        "id": "8f6f8166-7ad4-4e30-8799-f8695b5c1add",
        "outputId": "73af960c-1207-4317-f22c-16fbb72411eb"
      },
      "outputs": [
        {
          "name": "stdout",
          "output_type": "stream",
          "text": [
            "   현대에이치티 *\n",
            "0    미디어젠 *\n",
            "1     현대모비스\n",
            "2     블루콤 *\n",
            "3    브리지텍 *\n",
            "4   파인디지털 *\n",
            "5     NAVER\n",
            "6      코콤 *\n",
            "7       카카오\n",
            "8     파트론 *\n",
            "9    가온그룹 *\n",
            "10  셀바스AI *\n",
            "첫 번째 열만 남기고 나머지 열을 삭제한 파일이 '테마 회사리스트.xlsx'로 저장되었습니다.\n"
          ]
        }
      ],
      "source": [
        "df = pd.read_excel('naver_finance_theme.xlsx')\n",
        "\n",
        "# 첫 번째 열만 남기고 나머지 열 삭제\n",
        "df = df.iloc[:, [0]]\n",
        "print(df)\n",
        "# 결과를 새로운 엑셀 파일로 저장\n",
        "df.to_excel('테마 회사리스트.xlsx', index=False)\n",
        "\n",
        "print(\"첫 번째 열만 남기고 나머지 열을 삭제한 파일이 '테마 회사리스트.xlsx'로 저장되었습니다.\")"
      ]
    }
  ],
  "metadata": {
    "kernelspec": {
      "display_name": "Python 3 (ipykernel)",
      "language": "python",
      "name": "python3"
    },
    "language_info": {
      "codemirror_mode": {
        "name": "ipython",
        "version": 3
      },
      "file_extension": ".py",
      "mimetype": "text/x-python",
      "name": "python",
      "nbconvert_exporter": "python",
      "pygments_lexer": "ipython3",
      "version": "3.12.4"
    },
    "colab": {
      "provenance": []
    }
  },
  "nbformat": 4,
  "nbformat_minor": 5
}